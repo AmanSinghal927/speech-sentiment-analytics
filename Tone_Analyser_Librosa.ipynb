{
  "nbformat": 4,
  "nbformat_minor": 0,
  "metadata": {
    "kernelspec": {
      "display_name": "Python 2",
      "language": "python",
      "name": "python2"
    },
    "language_info": {
      "codemirror_mode": {
        "name": "ipython",
        "version": 2
      },
      "file_extension": ".py",
      "mimetype": "text/x-python",
      "name": "python",
      "nbconvert_exporter": "python",
      "pygments_lexer": "ipython2",
      "version": "2.7.15"
    },
    "colab": {
      "name": "Tone_Analyser_Librosa.ipynb",
      "provenance": [],
      "collapsed_sections": []
    }
  },
  "cells": [
    {
      "cell_type": "code",
      "metadata": {
        "id": "YqqrVnvCVPN7"
      },
      "source": [
        "import librosa\n",
        "import librosa.display\n",
        "import numpy as np\n",
        "import pandas as pd"
      ],
      "execution_count": null,
      "outputs": []
    },
    {
      "cell_type": "code",
      "metadata": {
        "id": "k3gM96jmVPN7"
      },
      "source": [
        "import os"
      ],
      "execution_count": null,
      "outputs": []
    },
    {
      "cell_type": "code",
      "metadata": {
        "id": "3R7fSlJnVPN7"
      },
      "source": [
        "mylist= os.listdir('G:/Recording/tone2')"
      ],
      "execution_count": null,
      "outputs": []
    },
    {
      "cell_type": "code",
      "metadata": {
        "id": "i7yml4qyVPN7",
        "outputId": "5a16e525-5c11-4ab9-91ef-5d6053346b2e"
      },
      "source": [
        "type(mylist)\n",
        "len(mylist)"
      ],
      "execution_count": null,
      "outputs": [
        {
          "output_type": "execute_result",
          "data": {
            "text/plain": [
              "2452"
            ]
          },
          "metadata": {
            "tags": []
          },
          "execution_count": 25
        }
      ]
    },
    {
      "cell_type": "code",
      "metadata": {
        "id": "tHNuiSDuVPN8"
      },
      "source": [
        "feeling_list=[]\n",
        "for item in mylist:\n",
        "    if item[6:-16]=='02' and int(item[18:-4])%2==0:\n",
        "        feeling_list.append('female_calm')\n",
        "    elif item[6:-16]=='02' and int(item[18:-4])%2==1:\n",
        "        feeling_list.append('male_calm')\n",
        "    elif item[6:-16]=='03' and int(item[18:-4])%2==0:\n",
        "        feeling_list.append('female_happy')\n",
        "    elif item[6:-16]=='03' and int(item[18:-4])%2==1:\n",
        "        feeling_list.append('male_happy')\n",
        "    elif item[6:-16]=='04' and int(item[18:-4])%2==0:\n",
        "        feeling_list.append('female_sad')\n",
        "    elif item[6:-16]=='04' and int(item[18:-4])%2==1:\n",
        "        feeling_list.append('male_sad')\n",
        "    elif item[6:-16]=='05' and int(item[18:-4])%2==0:\n",
        "        feeling_list.append('female_angry')\n",
        "    elif item[6:-16]=='05' and int(item[18:-4])%2==1:\n",
        "        feeling_list.append('male_angry')\n",
        "    elif item[6:-16]=='06' and int(item[18:-4])%2==0:\n",
        "        feeling_list.append('female_fearful')\n",
        "    elif item[6:-16]=='06' and int(item[18:-4])%2==1:\n",
        "        feeling_list.append('male_fearful')\n",
        "    elif item[:1]=='a':\n",
        "        feeling_list.append('male_angry')\n",
        "    elif item[:1]=='f':\n",
        "        feeling_list.append('male_fearful')\n",
        "    elif item[:1]=='h':\n",
        "        feeling_list.append('male_happy')\n",
        "    #elif item[:1]=='n':\n",
        "        #feeling_list.append('neutral')\n",
        "    elif item[:2]=='sa':\n",
        "        feeling_list.append('male_sad')"
      ],
      "execution_count": null,
      "outputs": []
    },
    {
      "cell_type": "code",
      "metadata": {
        "id": "XpdyZP90VPN9",
        "outputId": "bedca190-9038-4171-c62a-15aa3900183a"
      },
      "source": [
        "labels = pd.DataFrame(feeling_list)\n",
        "len(labels)"
      ],
      "execution_count": null,
      "outputs": [
        {
          "output_type": "execute_result",
          "data": {
            "text/plain": [
              "1880"
            ]
          },
          "metadata": {
            "tags": []
          },
          "execution_count": 29
        }
      ]
    },
    {
      "cell_type": "code",
      "metadata": {
        "id": "S-Ij_ypSVPN9",
        "outputId": "a4d01bb4-ecea-431b-95da-c4af0b50de58"
      },
      "source": [
        "labels[:10]"
      ],
      "execution_count": null,
      "outputs": [
        {
          "output_type": "execute_result",
          "data": {
            "text/html": [
              "<div>\n",
              "<style scoped>\n",
              "    .dataframe tbody tr th:only-of-type {\n",
              "        vertical-align: middle;\n",
              "    }\n",
              "\n",
              "    .dataframe tbody tr th {\n",
              "        vertical-align: top;\n",
              "    }\n",
              "\n",
              "    .dataframe thead th {\n",
              "        text-align: right;\n",
              "    }\n",
              "</style>\n",
              "<table border=\"1\" class=\"dataframe\">\n",
              "  <thead>\n",
              "    <tr style=\"text-align: right;\">\n",
              "      <th></th>\n",
              "      <th>0</th>\n",
              "    </tr>\n",
              "  </thead>\n",
              "  <tbody>\n",
              "    <tr>\n",
              "      <th>0</th>\n",
              "      <td>male_calm</td>\n",
              "    </tr>\n",
              "    <tr>\n",
              "      <th>1</th>\n",
              "      <td>female_calm</td>\n",
              "    </tr>\n",
              "    <tr>\n",
              "      <th>2</th>\n",
              "      <td>male_calm</td>\n",
              "    </tr>\n",
              "    <tr>\n",
              "      <th>3</th>\n",
              "      <td>female_calm</td>\n",
              "    </tr>\n",
              "    <tr>\n",
              "      <th>4</th>\n",
              "      <td>male_calm</td>\n",
              "    </tr>\n",
              "    <tr>\n",
              "      <th>5</th>\n",
              "      <td>female_calm</td>\n",
              "    </tr>\n",
              "    <tr>\n",
              "      <th>6</th>\n",
              "      <td>male_calm</td>\n",
              "    </tr>\n",
              "    <tr>\n",
              "      <th>7</th>\n",
              "      <td>female_calm</td>\n",
              "    </tr>\n",
              "    <tr>\n",
              "      <th>8</th>\n",
              "      <td>male_calm</td>\n",
              "    </tr>\n",
              "    <tr>\n",
              "      <th>9</th>\n",
              "      <td>female_calm</td>\n",
              "    </tr>\n",
              "  </tbody>\n",
              "</table>\n",
              "</div>"
            ],
            "text/plain": [
              "             0\n",
              "0    male_calm\n",
              "1  female_calm\n",
              "2    male_calm\n",
              "3  female_calm\n",
              "4    male_calm\n",
              "5  female_calm\n",
              "6    male_calm\n",
              "7  female_calm\n",
              "8    male_calm\n",
              "9  female_calm"
            ]
          },
          "metadata": {
            "tags": []
          },
          "execution_count": 35
        }
      ]
    },
    {
      "cell_type": "code",
      "metadata": {
        "id": "yI13PMS5VPN9"
      },
      "source": [
        "df = pd.DataFrame(columns=['feature'])\n",
        "bookmark=0\n",
        "for index,y in enumerate(mylist):\n",
        "    if mylist[index][6:-16]!='01' and mylist[index][6:-16]!='07' and mylist[index][6:-16]!='08' and mylist[index][:2]!='su' and mylist[index][:1]!='n' and mylist[index][:1]!='d':\n",
        "        X, sample_rate = librosa.load('G:/Recording/tone2/'+y, res_type='kaiser_fast',duration=2.5,sr=22050*2,offset=0.5)\n",
        "        sample_rate = np.array(sample_rate)\n",
        "        mfccs = np.mean(librosa.feature.mfcc(y=X, \n",
        "                                            sr=sample_rate, \n",
        "                                            n_mfcc=13),\n",
        "                        axis=0)\n",
        "        feature = mfccs\n",
        "        #[float(i) for i in feature]\n",
        "        #feature1=feature[:135]\n",
        "        df.loc[bookmark] = [feature]\n",
        "        bookmark=bookmark+1"
      ],
      "execution_count": null,
      "outputs": []
    },
    {
      "cell_type": "code",
      "metadata": {
        "id": "7FGrgExEVPN9",
        "outputId": "2066ce23-b2c9-4c52-a06c-0c3d82038455"
      },
      "source": [
        "df[:7]\n",
        "len(df)"
      ],
      "execution_count": null,
      "outputs": [
        {
          "output_type": "execute_result",
          "data": {
            "text/plain": [
              "1880"
            ]
          },
          "metadata": {
            "tags": []
          },
          "execution_count": 38
        }
      ]
    },
    {
      "cell_type": "code",
      "metadata": {
        "id": "ke1NUeA3VPN9"
      },
      "source": [
        "df3 = pd.DataFrame(df['feature'].values.tolist())"
      ],
      "execution_count": null,
      "outputs": []
    },
    {
      "cell_type": "code",
      "metadata": {
        "id": "Xu7hl2xSVPN-"
      },
      "source": [
        "newdf = pd.concat([df3,labels], axis=1)"
      ],
      "execution_count": null,
      "outputs": []
    },
    {
      "cell_type": "code",
      "metadata": {
        "id": "ZliscOw4VPN-"
      },
      "source": [
        "rnewdf = newdf.rename(index=str, columns={\"0\": \"label\"})"
      ],
      "execution_count": null,
      "outputs": []
    },
    {
      "cell_type": "code",
      "metadata": {
        "id": "C_FMTH2CVPN-",
        "outputId": "8a8664d2-93a5-457b-8d5c-9961b08e0a89"
      },
      "source": [
        "rnewdf[:5]"
      ],
      "execution_count": null,
      "outputs": [
        {
          "output_type": "execute_result",
          "data": {
            "text/html": [
              "<div>\n",
              "<style scoped>\n",
              "    .dataframe tbody tr th:only-of-type {\n",
              "        vertical-align: middle;\n",
              "    }\n",
              "\n",
              "    .dataframe tbody tr th {\n",
              "        vertical-align: top;\n",
              "    }\n",
              "\n",
              "    .dataframe thead th {\n",
              "        text-align: right;\n",
              "    }\n",
              "</style>\n",
              "<table border=\"1\" class=\"dataframe\">\n",
              "  <thead>\n",
              "    <tr style=\"text-align: right;\">\n",
              "      <th></th>\n",
              "      <th>0</th>\n",
              "      <th>1</th>\n",
              "      <th>2</th>\n",
              "      <th>3</th>\n",
              "      <th>4</th>\n",
              "      <th>5</th>\n",
              "      <th>6</th>\n",
              "      <th>7</th>\n",
              "      <th>8</th>\n",
              "      <th>9</th>\n",
              "      <th>...</th>\n",
              "      <th>207</th>\n",
              "      <th>208</th>\n",
              "      <th>209</th>\n",
              "      <th>210</th>\n",
              "      <th>211</th>\n",
              "      <th>212</th>\n",
              "      <th>213</th>\n",
              "      <th>214</th>\n",
              "      <th>215</th>\n",
              "      <th>0</th>\n",
              "    </tr>\n",
              "  </thead>\n",
              "  <tbody>\n",
              "    <tr>\n",
              "      <th>0</th>\n",
              "      <td>-70.267764</td>\n",
              "      <td>-70.267764</td>\n",
              "      <td>-70.267764</td>\n",
              "      <td>-70.267764</td>\n",
              "      <td>-70.267764</td>\n",
              "      <td>-70.267764</td>\n",
              "      <td>-70.267764</td>\n",
              "      <td>-70.267764</td>\n",
              "      <td>-70.267764</td>\n",
              "      <td>-70.267764</td>\n",
              "      <td>...</td>\n",
              "      <td>-57.447461</td>\n",
              "      <td>-58.896493</td>\n",
              "      <td>-58.751002</td>\n",
              "      <td>-57.405669</td>\n",
              "      <td>-60.078475</td>\n",
              "      <td>-63.426811</td>\n",
              "      <td>-62.638537</td>\n",
              "      <td>-61.082741</td>\n",
              "      <td>-60.234652</td>\n",
              "      <td>male_calm</td>\n",
              "    </tr>\n",
              "    <tr>\n",
              "      <th>1</th>\n",
              "      <td>-65.707652</td>\n",
              "      <td>-65.707652</td>\n",
              "      <td>-63.114722</td>\n",
              "      <td>-61.518999</td>\n",
              "      <td>-61.097138</td>\n",
              "      <td>-63.424602</td>\n",
              "      <td>-63.720067</td>\n",
              "      <td>-56.854608</td>\n",
              "      <td>-55.168972</td>\n",
              "      <td>-54.640002</td>\n",
              "      <td>...</td>\n",
              "      <td>-39.792147</td>\n",
              "      <td>-40.613166</td>\n",
              "      <td>-41.209201</td>\n",
              "      <td>-41.439204</td>\n",
              "      <td>-43.994282</td>\n",
              "      <td>-49.399616</td>\n",
              "      <td>-50.591601</td>\n",
              "      <td>-49.144064</td>\n",
              "      <td>-48.705645</td>\n",
              "      <td>female_calm</td>\n",
              "    </tr>\n",
              "    <tr>\n",
              "      <th>2</th>\n",
              "      <td>-65.482499</td>\n",
              "      <td>-65.482499</td>\n",
              "      <td>-65.482499</td>\n",
              "      <td>-65.482499</td>\n",
              "      <td>-65.482499</td>\n",
              "      <td>-65.482499</td>\n",
              "      <td>-65.482499</td>\n",
              "      <td>-65.482499</td>\n",
              "      <td>-65.482499</td>\n",
              "      <td>-65.482499</td>\n",
              "      <td>...</td>\n",
              "      <td>-31.346553</td>\n",
              "      <td>-34.310774</td>\n",
              "      <td>-35.800705</td>\n",
              "      <td>-35.936112</td>\n",
              "      <td>-37.631846</td>\n",
              "      <td>-40.119408</td>\n",
              "      <td>-41.662903</td>\n",
              "      <td>-41.323644</td>\n",
              "      <td>-40.710780</td>\n",
              "      <td>male_calm</td>\n",
              "    </tr>\n",
              "    <tr>\n",
              "      <th>3</th>\n",
              "      <td>-64.528449</td>\n",
              "      <td>-64.528449</td>\n",
              "      <td>-64.528449</td>\n",
              "      <td>-64.528449</td>\n",
              "      <td>-64.528449</td>\n",
              "      <td>-64.528449</td>\n",
              "      <td>-64.528449</td>\n",
              "      <td>-64.528449</td>\n",
              "      <td>-64.528449</td>\n",
              "      <td>-65.928222</td>\n",
              "      <td>...</td>\n",
              "      <td>-48.674306</td>\n",
              "      <td>-48.596082</td>\n",
              "      <td>-47.602751</td>\n",
              "      <td>-43.049195</td>\n",
              "      <td>-42.659546</td>\n",
              "      <td>-43.188561</td>\n",
              "      <td>-44.001237</td>\n",
              "      <td>-43.610100</td>\n",
              "      <td>-44.698259</td>\n",
              "      <td>female_calm</td>\n",
              "    </tr>\n",
              "    <tr>\n",
              "      <th>4</th>\n",
              "      <td>-62.364311</td>\n",
              "      <td>-59.934725</td>\n",
              "      <td>-61.869600</td>\n",
              "      <td>-67.495764</td>\n",
              "      <td>-71.071811</td>\n",
              "      <td>-65.679826</td>\n",
              "      <td>-63.394396</td>\n",
              "      <td>-65.503349</td>\n",
              "      <td>-61.856639</td>\n",
              "      <td>-60.005421</td>\n",
              "      <td>...</td>\n",
              "      <td>-39.071328</td>\n",
              "      <td>-41.897121</td>\n",
              "      <td>-40.865430</td>\n",
              "      <td>-38.290605</td>\n",
              "      <td>-36.372397</td>\n",
              "      <td>-37.915779</td>\n",
              "      <td>-40.026125</td>\n",
              "      <td>-43.383777</td>\n",
              "      <td>-43.965398</td>\n",
              "      <td>male_calm</td>\n",
              "    </tr>\n",
              "  </tbody>\n",
              "</table>\n",
              "<p>5 rows × 217 columns</p>\n",
              "</div>"
            ],
            "text/plain": [
              "         0          1          2          3          4          5    \\\n",
              "0 -70.267764 -70.267764 -70.267764 -70.267764 -70.267764 -70.267764   \n",
              "1 -65.707652 -65.707652 -63.114722 -61.518999 -61.097138 -63.424602   \n",
              "2 -65.482499 -65.482499 -65.482499 -65.482499 -65.482499 -65.482499   \n",
              "3 -64.528449 -64.528449 -64.528449 -64.528449 -64.528449 -64.528449   \n",
              "4 -62.364311 -59.934725 -61.869600 -67.495764 -71.071811 -65.679826   \n",
              "\n",
              "         6          7          8          9    ...        207        208  \\\n",
              "0 -70.267764 -70.267764 -70.267764 -70.267764  ... -57.447461 -58.896493   \n",
              "1 -63.720067 -56.854608 -55.168972 -54.640002  ... -39.792147 -40.613166   \n",
              "2 -65.482499 -65.482499 -65.482499 -65.482499  ... -31.346553 -34.310774   \n",
              "3 -64.528449 -64.528449 -64.528449 -65.928222  ... -48.674306 -48.596082   \n",
              "4 -63.394396 -65.503349 -61.856639 -60.005421  ... -39.071328 -41.897121   \n",
              "\n",
              "         209        210        211        212        213        214  \\\n",
              "0 -58.751002 -57.405669 -60.078475 -63.426811 -62.638537 -61.082741   \n",
              "1 -41.209201 -41.439204 -43.994282 -49.399616 -50.591601 -49.144064   \n",
              "2 -35.800705 -35.936112 -37.631846 -40.119408 -41.662903 -41.323644   \n",
              "3 -47.602751 -43.049195 -42.659546 -43.188561 -44.001237 -43.610100   \n",
              "4 -40.865430 -38.290605 -36.372397 -37.915779 -40.026125 -43.383777   \n",
              "\n",
              "         215          0    \n",
              "0 -60.234652    male_calm  \n",
              "1 -48.705645  female_calm  \n",
              "2 -40.710780    male_calm  \n",
              "3 -44.698259  female_calm  \n",
              "4 -43.965398    male_calm  \n",
              "\n",
              "[5 rows x 217 columns]"
            ]
          },
          "metadata": {
            "tags": []
          },
          "execution_count": 42
        }
      ]
    },
    {
      "cell_type": "code",
      "metadata": {
        "id": "6wiR8PLTVPN-"
      },
      "source": [
        "rnewdf.to_csv('/tagged_audio2.csv',header=True)"
      ],
      "execution_count": null,
      "outputs": []
    },
    {
      "cell_type": "code",
      "metadata": {
        "id": "yvYVBQIuVPN-",
        "outputId": "910e6db4-75e9-4486-9c80-0933bb749713"
      },
      "source": [
        "len(rnewdf)"
      ],
      "execution_count": null,
      "outputs": [
        {
          "output_type": "execute_result",
          "data": {
            "text/plain": [
              "1880"
            ]
          },
          "metadata": {
            "tags": []
          },
          "execution_count": 44
        }
      ]
    },
    {
      "cell_type": "code",
      "metadata": {
        "id": "rGG7tzBqVPN-"
      },
      "source": [
        ""
      ],
      "execution_count": null,
      "outputs": []
    }
  ]
}